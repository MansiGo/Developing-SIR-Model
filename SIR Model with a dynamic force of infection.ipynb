{
 "cells": [
  {
   "cell_type": "code",
   "execution_count": 39,
   "metadata": {},
   "outputs": [
    {
     "name": "stderr",
     "output_type": "stream",
     "text": [
      "Your code contains a unicode char which cannot be displayed in your\n",
      "current locale and R will silently convert it to an escaped form when the\n",
      "R kernel executes this code. This can lead to subtle errors if you use\n",
      "such chars to do comparisons. For more information, please see\n",
      "https://github.com/IRkernel/repr/wiki/Problems-with-unicode-on-windows"
     ]
    }
   ],
   "source": [
    "# In the previous model, we made the unrealistic assumption that the force of infection can be expressed as a constant rate. \n",
    "# As you have just learnt, in reality  𝜆  changes over time, depending on the number of infected people in the population. \n",
    "# This is what we are looking at in this etivity!\n",
    "\n",
    "# Remember, the diagram for a simple SIR model looks as follows, except that now we define  𝜆  as a function of the infection rate,  𝛽  (beta), and the proportion of the population that is infectious,  𝐼/𝑁\n",
    "\n",
    "library(deSolve)\n",
    "library(reshape2)\n",
    "library(ggplot2)\n",
    "\n",
    "# Hint: one addition you need to make in this etivity is to \n",
    "# calculate the total population size N to be able to\n",
    "# calculate the proportion infected for the force of infection. \n",
    "# How you do this is up to you, but one option would be \n",
    "# to calculate it within the model function where you specify\n",
    "# the differential equations.\n",
    "\n",
    "# Some assumptions inherent in this model structure are:\n",
    "\n",
    "# a homogeneous population - everyone in the same compartment is subject to the same hazards\n",
    "# a well-mixed population - all susceptible people have the same risk as getting infected, dependent on the number of infected people\n",
    "# a closed population - there are no births or deaths, so the population size stays constant"
   ]
  },
  {
   "cell_type": "code",
   "execution_count": 35,
   "metadata": {},
   "outputs": [],
   "source": [
    "# MODEL INPUTS:\n",
    "\n",
    "# Vector storing the initial number of people in each compartment\n",
    "# (at timestep 0)\n",
    "initial_state_values <- c(S = 999999,  # the whole population we're modelling\n",
    "                                       # is susceptible to infection\n",
    "                          I = 1,       # the epidemic starts with 1 infected person\n",
    "                          R = 0)       # there is no prior immunity in the\n",
    "                                       # population\n",
    "\n",
    "# Vector storing the parameters describing the transition rates in\n",
    "# units of days^-1\n",
    "parameters <- c(beta = 1,      # the infection rate\n",
    "                gamma = 0.1)   # the rate of recovery, which acts on \n",
    "                               # those infected\n",
    "\n",
    "# TIMESTEPS:\n",
    "\n",
    "# Vector storing the sequence of timesteps to solve the model at\n",
    "times <- seq(from = 0, to = 60, by = 1)   \n",
    "# from 0 to 60 days in daily intervals\n",
    "\n",
    "# SIR MODEL FUNCTION: \n",
    "\n",
    "# The model function takes as input arguments (in the following order):\n",
    "# time, state and parameters\n"
   ]
  },
  {
   "cell_type": "code",
   "execution_count": 41,
   "metadata": {},
   "outputs": [
    {
     "data": {
      "image/png": "[encoded data removed]",
      "text/plain": [
       "plot without title"
      ]
     },
     "metadata": {},
     "output_type": "display_data"
    }
   ],
   "source": [
    "# Run the R code needed first\n",
    "require(deSolve)\n",
    "\n",
    "sir_model <- function(time, state, parameters) {  \n",
    "  \n",
    "  with(as.list(c(state, parameters)), {  \n",
    "  # tell R to look for variable names within the \n",
    "  # state and parameters objects\n",
    "    \n",
    "    N <- S+I+R\n",
    "    \n",
    "    # New: defining lambda as a function of beta and I:\n",
    "    lambda <- beta * I/N\n",
    "    \n",
    "    # The differential equations\n",
    "    dS <- -lambda * S               # people move out of (-) the \n",
    "                                    # S compartment at a rate lambda \n",
    "                                    # (force of infection)\n",
    "    dI <- lambda * S - gamma * I    # people move into (+) the I compartment\n",
    "                                    # from S at a rate lambda, \n",
    "                                    # and move out of (-) the I compartment \n",
    "                                    # at a rate gamma (recovery)\n",
    "    dR <- gamma * I                 # people move into (+) the R compartment\n",
    "                                    # from I at a rate gamma\n",
    "    \n",
    "    # Return the number of people in the S, I and R compartments at each\n",
    "    # timestep \n",
    "    # (in the same order as the input state variables)\n",
    "    return(list(c(dS, dI, dR))) \n",
    "  })\n",
    "  \n",
    "}\n",
    "\n",
    "output <- as.data.frame(ode(y = initial_state_values, \n",
    "                              times = times, \n",
    "                              func = sir_model,\n",
    "                              parms = parameters))\n",
    "\n",
    "# Plotting the output\n",
    "output_long <- melt(as.data.frame(output), id = \"time\")                  # turn output dataset into long format\n",
    "\n",
    "ggplot(data = output_long,                                               # specify object containing data to plot\n",
    "       aes(x = time, y = value, colour = variable, group = variable)) +  # assign columns to axes and groups\n",
    "  geom_line() +                                                          # represent data as lines\n",
    "  xlab(\"Time (days)\")+                                                   # add label for x axisa\n",
    "  ylab(\"Number of people\") +                                             # add label for y axis\n",
    "  labs(colour = \"Compartment\")                                           # add legend title\n",
    "\n",
    "\n",
    "\n",
    "\n",
    "run_sir_model <- \n",
    "    function(beta, gamma, S0 = 999999, I0 = 1, R0 = 1, duration = 60) {\n",
    "  \n",
    "  initial_state_values <- c(S = S0,  # nearly the whole population we are \n",
    "                                     # modelling is susceptible to infection\n",
    "                            I = I0,  # the epidemic starts with a single\n",
    "                                     # infected person\n",
    "                            R = R0)  # there is no prior immunity in the\n",
    "                                     # population\n",
    "  \n",
    "  parameters <- c(beta = beta, # the rate of infection, \n",
    "                               \n",
    "                  gamma = gamma)  # the rate of recovery, \n",
    "                                  # which acts on those infected\n",
    "\n",
    "  times <- seq(from = 0, to = duration, by = 1) \n",
    "  \n",
    "\n",
    "  \n",
    "  # Plotting the output\n",
    "  plot(x = output$time,             # time on the x axis\n",
    "       y = output$S,                # the number of susceptible people at\n",
    "                                      # each timestep on the y axis\n",
    "       type = \"l\",                  # type = \"l\" tells R we want lines \n",
    "                                      # rather than points\n",
    "       ylim = c(0,(S0+I0+R0)),      # the limits of the y axis\n",
    "                                      # (from 0 to the total number of \n",
    "                                      # people)\n",
    "      \n",
    "      xlab = \"Time (days)\", \n",
    "      ylab = \"Number of people\")    # add axis labels\n",
    "  \n",
    "  lines(x = output$time,            # add the number of\n",
    "        y = output$I,                 # infected people at each\n",
    "        col = \"red\")                  # timestep on the y axis\n",
    "                                                    \n",
    "                                                   \n",
    "  lines(x = output$time,            # number of recovered\n",
    "        y = output$R,                 # people at each\n",
    "        col = \"blue\")                 # timestep on the y axis\n",
    "                                                  \n",
    "  legend(x = \"right\",                     # add a legend on the right-hand\n",
    "                                            # side of the plot\n",
    "         legend = c(\"S\", \"I\", \"R\"),       # labels S, I and R for black, \n",
    "         col = c(\"black\", \"red\", \"blue\"),   # red, blue lines respectively\n",
    "         lty = c(1,1))                    # both lines are\n",
    "                                            # solid linetype (lty = 1)\n",
    "  title(main = paste(\"beta =\", beta,      # main title\n",
    "                     \", gamma =\", gamma))\n",
    "}"
   ]
  },
  {
   "cell_type": "code",
   "execution_count": 37,
   "metadata": {},
   "outputs": [
    {
     "data": {
      "text/html": [
       "<table>\n",
       "<thead><tr><th></th><th scope=col>time</th><th scope=col>S</th><th scope=col>I</th><th scope=col>R</th></tr></thead>\n",
       "<tbody>\n",
       "\t<tr><th scope=row>20</th><td>19      </td><td>51602.45</td><td>651979  </td><td>296418.6</td></tr>\n",
       "</tbody>\n",
       "</table>\n"
      ],
      "text/latex": [
       "\\begin{tabular}{r|llll}\n",
       "  & time & S & I & R\\\\\n",
       "\\hline\n",
       "\t20 & 19       & 51602.45 & 651979   & 296418.6\\\\\n",
       "\\end{tabular}\n"
      ],
      "text/markdown": [
       "\n",
       "| <!--/--> | time | S | I | R |\n",
       "|---|---|---|---|---|\n",
       "| 20 | 19       | 51602.45 | 651979   | 296418.6 |\n",
       "\n"
      ],
      "text/plain": [
       "   time S        I      R       \n",
       "20 19   51602.45 651979 296418.6"
      ]
     },
     "metadata": {},
     "output_type": "display_data"
    }
   ],
   "source": [
    "# The peak of the epidemic occurs after 19 days, at which point around 670000 people are infected.\n",
    "output[output$time == 19,]"
   ]
  },
  {
   "cell_type": "code",
   "execution_count": 38,
   "metadata": {},
   "outputs": [
    {
     "name": "stderr",
     "output_type": "stream",
     "text": [
      "Your code contains a unicode char which cannot be displayed in your\n",
      "current locale and R will silently convert it to an escaped form when the\n",
      "R kernel executes this code. This can lead to subtle errors if you use\n",
      "such chars to do comparisons. For more information, please see\n",
      "https://github.com/IRkernel/repr/wiki/Problems-with-unicode-on-windows"
     ]
    },
    {
     "data": {
      "image/png": "[encoded data removed]",
      "text/plain": [
       "Plot with title \"beta = 1 , gamma = 1\""
      ]
     },
     "metadata": {},
     "output_type": "display_data"
    }
   ],
   "source": [
    "# With  𝛾  held constant at 0.1, an increasing value for  𝛽  leads to an earlier and higher peak of infected people. \n",
    "# With a higher  𝛽 , the peak is also \"sharper\", i.e. the epidemic also starts to decline again more quickly. A  𝛽  of 0.1 actually does not give rise to an epidemic: the number of susceptible, infected and recovered people stays the same as at the beginning.\n",
    "\n",
    "par(mfrow = c(2,2))                     \n",
    "run_sir_model(beta = 1, gamma = 0.025, duration = 60)\n",
    "run_sir_model(beta = 1, gamma = 0.2, duration = 60)\n",
    "run_sir_model(beta = 1, gamma = 0.5, duration = 60)\n",
    "run_sir_model(beta = 1, gamma = 1, duration = 365)"
   ]
  },
  {
   "cell_type": "code",
   "execution_count": null,
   "metadata": {},
   "outputs": [],
   "source": []
  }
 ],
 "metadata": {
  "kernelspec": {
   "display_name": "R",
   "language": "R",
   "name": "ir"
  },
  "language_info": {
   "codemirror_mode": "r",
   "file_extension": ".r",
   "mimetype": "text/x-r-source",
   "name": "R",
   "pygments_lexer": "r",
   "version": "3.6.1"
  }
 },
 "nbformat": 4,
 "nbformat_minor": 4
}
