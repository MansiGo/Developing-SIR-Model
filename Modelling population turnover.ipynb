{
 "cells": [
  {
   "cell_type": "code",
   "execution_count": 2,
   "metadata": {},
   "outputs": [
    {
     "name": "stderr",
     "output_type": "stream",
     "text": [
      "Your code contains a unicode char which cannot be displayed in your\n",
      "current locale and R will silently convert it to an escaped form when the\n",
      "R kernel executes this code. This can lead to subtle errors if you use\n",
      "such chars to do comparisons. For more information, please see\n",
      "https://github.com/IRkernel/repr/wiki/Problems-with-unicode-on-windows"
     ]
    }
   ],
   "source": [
    "# In our previous SIR model, we have assumed a closed population, i.e. one where no one dies and no babies are born. \n",
    "# In terms of the epidemic dynamics, that has meant that as more and more people become infected and recovered, the pool of susceptibles continually decreases, and thus so too does the effective reproduction number. \n",
    "# This is fine for diseases with short infectious periods, that spread through a population more quickly than the population is able to renew itself. \n",
    "# But what about longer timescales? \n",
    "# In this etivity, we want to incorporate births and deaths into the basic SIR model. The structure for this model looks like this:\n",
    "\n",
    "# 𝑑𝑆𝑑𝑡=−𝛽𝐼𝑁𝑆−𝜇𝑆+𝑏𝑁      𝑑𝐼𝑑𝑡=𝛽𝐼𝑁𝑆−𝛾𝐼−𝜇𝐼     𝑑𝑅𝑑𝑡=𝛾𝐼−𝜇𝑅\n",
    "\n",
    "\n",
    "\n",
    "# This structure assumes that every individual in each compartment experiences the same background mortality  𝜇  (there is no additional mortality from the infection for example, and we make no distinction by age). \n",
    "# Those who have died no longer contribute to infection (a sensible assumption for many diseases). \n",
    "# Babies are all born at a rate b into the susceptible compartment.\n",
    "\n",
    "# Note that, as always, we calculate the people dying in each of the compartments by multiplying the number in that compartment by the rate  𝜇 . \n",
    "# Even though babies are all born into the same compartment, the birth rate still depends on the population in all of the compartments, hence why we need to multiply b* by the total population size *N. \n",
    "# In the following etivity, we choose a value of b to allow a constant population size, so that all deaths are balanced by births.\n",
    "\n",
    "#  In the first instance, we are looking at an acute disease epidemic introduced into a fully susceptible human population. The infection and recovery rates are 0.4 and 0.2 days −1  respectively. \n",
    "# We can calculate the background mortality rate based on the average human lifespan - let's assume that this is 70 years, so mu = 1/70 years −1 , or 1/(70x365) days −1 . \n",
    "# In this example, we are also assuming that the population size stays constant over time at 10 6  - to achieve that, we set the birth rate b = mu.\n"
   ]
  },
  {
   "cell_type": "code",
   "execution_count": null,
   "metadata": {},
   "outputs": [],
   "source": []
  }
 ],
 "metadata": {
  "kernelspec": {
   "display_name": "R",
   "language": "R",
   "name": "ir"
  },
  "language_info": {
   "codemirror_mode": "r",
   "file_extension": ".r",
   "mimetype": "text/x-r-source",
   "name": "R",
   "pygments_lexer": "r",
   "version": "3.6.1"
  }
 },
 "nbformat": 4,
 "nbformat_minor": 4
}
