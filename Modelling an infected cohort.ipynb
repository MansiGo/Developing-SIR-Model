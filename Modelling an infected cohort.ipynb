{
 "cells": [
  {
   "cell_type": "code",
   "execution_count": 1,
   "metadata": {},
   "outputs": [
    {
     "name": "stderr",
     "output_type": "stream",
     "text": [
      "Your code contains a unicode char which cannot be displayed in your\n",
      "current locale and R will silently convert it to an escaped form when the\n",
      "R kernel executes this code. This can lead to subtle errors if you use\n",
      "such chars to do comparisons. For more information, please see\n",
      "https://github.com/IRkernel/repr/wiki/Problems-with-unicode-on-windows"
     ]
    }
   ],
   "source": [
    "# Modelling an infected cohort\n",
    "# Aim is to find out how long it takes for a cohort of infected people to recover to answer this question we need to keep track of 2 populations: \n",
    "# those that are infected (compartment  𝐼 ), and those that have recovered (compartment  𝑅 ). \n",
    "# Infected people recover at a rate  𝛾  (gamma). The differential equations describing this are:\n",
    "#  𝑑𝐼𝑑𝑡=−𝛾𝐼  𝑑𝑅𝑑𝑡=𝛾𝐼"
   ]
  },
  {
   "cell_type": "code",
   "execution_count": 4,
   "metadata": {},
   "outputs": [
    {
     "name": "stdout",
     "output_type": "stream",
     "text": [
      "package 'deSolve' successfully unpacked and MD5 sums checked\n",
      "\n",
      "The downloaded binary packages are in\n",
      "\tC:\\Users\\91993\\AppData\\Local\\Temp\\RtmpgbjHUf\\downloaded_packages\n",
      "package 'reshape2' successfully unpacked and MD5 sums checked\n",
      "\n",
      "The downloaded binary packages are in\n",
      "\tC:\\Users\\91993\\AppData\\Local\\Temp\\RtmpgbjHUf\\downloaded_packages\n"
     ]
    }
   ],
   "source": [
    "install.packages(\"deSolve\")\n",
    "install.packages(\"reshape2\")\n"
   ]
  },
  {
   "cell_type": "code",
   "execution_count": 6,
   "metadata": {},
   "outputs": [],
   "source": [
    "library(deSolve)   # package to solve the model\n",
    "library(reshape2)  # package to change the shape of the model output\n",
    "library(ggplot2)   # package for plotting"
   ]
  },
  {
   "cell_type": "code",
   "execution_count": 7,
   "metadata": {},
   "outputs": [],
   "source": [
    "# We are looking at a cohort of 10 6  currently infected people, and no one has recovered so far. \n",
    "# The average duration of infection is 10 days.\n",
    "# The question we want to answer is how many people will recover from the infection over a 4-week period.\n",
    "# We are looking at a cohort of 10 6  currently infected people, and no one has recovered so far. \n",
    "# The average duration of infection is 10 days. \n",
    "# The question we want to answer is how many people will recover from the infection over a 4-week period.\n"
   ]
  },
  {
   "cell_type": "code",
   "execution_count": 14,
   "metadata": {},
   "outputs": [],
   "source": [
    "initial_number_infected <- 1000000  # a cohort, 1000000 currently infected\n",
    "                                    # people\n",
    "initial_number_recovered <- 0       # no one has recovered\n",
    "                                    # at the beginning of the simulation\n",
    "recovery_rate <- 1/10               # the average duration spent in the I\n",
    "                                    # compartment is 10 days,\n",
    "                                    # so rate of recovery = 1/10 days^-1 \n",
    "                                    # or 0.1 per day\n",
    "follow_up_duration <- 4*7           # we want to know how many recover \n",
    "                                    # over a 4 week period, \n",
    "                                    # which equals 4*7 = 28 days\n",
    "\n",
    "# Combine into the model input vectors:\n",
    "initial_state_values <- c(I = initial_number_infected, \n",
    "                          R = initial_number_recovered)  \n",
    "\n",
    "parameters <- c(gamma = recovery_rate)  \n",
    "\n",
    "times <- seq(from = 0, to = follow_up_duration, by = 1) \n",
    "\n",
    "# I and R in the initial_state_values vector store how many people\n",
    "# there are in each compartment at the \n",
    "# first timestep t0 (the beginning of the simulation). \n",
    "\n",
    "# The parameters vector stores the value of each transition rate\n",
    "# (arrows) between compartments (boxes). \n",
    "# In this case we only have one transition: from I to R.\n",
    "\n",
    "# The times vector stores a sequence of timepoints starting at 0.\n",
    "# We want to run the model for 28 days, so 28 is the\n",
    "# last value in the times vector. by = 1 tells the deSolve package that\n",
    "# we want to calculate the model output at \n",
    "# timesteps of 1 day.\n",
    "\n",
    "# It is important to be consistent with the time units (days vs. weeks):\n",
    "# the recovery rate you have defined is applied at every timestep\n",
    "# between 0 and the end of follow-up specified in the times vector. \n",
    "# Since our recovery rate is in units of days^-1,\n",
    "# if you had put 4 as the follow-up duration, you would simply be \n",
    "# calculating the number of infected and recovered people over a 4 days."
   ]
  },
  {
   "cell_type": "code",
   "execution_count": 15,
   "metadata": {},
   "outputs": [],
   "source": [
    "cohort_model <- function(time, state, parameters) {    # specify the model \n",
    "                                                       # as a function with\n",
    "                                                       # input arguments\n",
    "    \n",
    "    with(as.list(c(state, parameters)), {  \n",
    "      \n",
    "    # Differential equations\n",
    "      dI <- -gamma * I\n",
    "      dR <- gamma * I\n",
    "        \n",
    "    return(list(c(dI, dR)))                             # return output\n",
    "    })\n",
    "  \n",
    "}\n",
    "\n",
    "# Further explanations:\n",
    "\n",
    "# To solve our model, called \"cohort_model\", using the deSolve package, \n",
    "# we need to define it as a function.\n",
    "# When using deSolve, every model function takes as input arguments\n",
    "# (in the following order): \n",
    "# 1) time: the timesteps that we want to solve the model at\n",
    "# 2) state: storing the number of people in each compartment at \n",
    "# each timestep\n",
    "# 3) parameters: names and values of model parameters,\n",
    "# for example the rates of transition between compartments\n",
    "\n",
    "# with(as.list(c(state, parameters)), {...} tells R to look\n",
    "# within the objects containing our state variables and \n",
    "# parameters (by combining and converting them to a list object),\n",
    "# so that you can refer to them directly. \n",
    "# In other words, we can unpack the state variables specified in \"state\" \n",
    "# and the model parameters specified in \"parameters\" using\n",
    "# the with() command, for our convenience.\n",
    "# For example, instead of having to write parameters[\"gamma\"]\n",
    "# you can simply write gamma as long as you are within the {}\n",
    "# brackets of the with statement.\n",
    "\n",
    "# The next two lines are the differential equations that calculate the \n",
    "# rate of change of the state variables. \n",
    "# Note that for coding purposes it does not matter which name you\n",
    "# chose for the rate of change, but the most common notation is to\n",
    "# write dI and dR for compartments I and R as shown here. \n",
    "\n",
    "# At the end of an R function we need to specify what we want the output\n",
    "# to be. Here, these outputs should be the rate of change of I and R:\n",
    "# that is, simply dI and dR. To specify these as outputs we use return().\n",
    "# To get the output in a convenient format, we are saving the\n",
    "# solutions to the differential equations as a vector within a list.\n",
    "\n",
    "# IMPORTANT: we have to return the rate of change variables in the \n",
    "# same order as the input state variables.\n",
    "# Since in our state vector initial_state_values, we specify I as the first\n",
    "# variable and R as the second, similarly we also have to specify dI\n",
    "# as the first output and dR as the second.\n",
    "# If you have changed the name of your state variables or the rates of \n",
    "# change variables, make sure to use the correct names here as well."
   ]
  },
  {
   "cell_type": "code",
   "execution_count": 16,
   "metadata": {},
   "outputs": [
    {
     "data": {
      "text/html": [
       "<table>\n",
       "<thead><tr><th scope=col>time</th><th scope=col>I</th><th scope=col>R</th></tr></thead>\n",
       "<tbody>\n",
       "\t<tr><td> 0        </td><td>1000000.00</td><td>     0.00 </td></tr>\n",
       "\t<tr><td> 1        </td><td> 904837.42</td><td> 95162.58 </td></tr>\n",
       "\t<tr><td> 2        </td><td> 818730.75</td><td>181269.25 </td></tr>\n",
       "\t<tr><td> 3        </td><td> 740818.22</td><td>259181.78 </td></tr>\n",
       "\t<tr><td> 4        </td><td> 670320.04</td><td>329679.96 </td></tr>\n",
       "\t<tr><td> 5        </td><td> 606530.66</td><td>393469.34 </td></tr>\n",
       "\t<tr><td> 6        </td><td> 548811.63</td><td>451188.37 </td></tr>\n",
       "\t<tr><td> 7        </td><td> 496585.30</td><td>503414.70 </td></tr>\n",
       "\t<tr><td> 8        </td><td> 449328.96</td><td>550671.04 </td></tr>\n",
       "\t<tr><td> 9        </td><td> 406569.66</td><td>593430.34 </td></tr>\n",
       "\t<tr><td>10        </td><td> 367879.44</td><td>632120.56 </td></tr>\n",
       "\t<tr><td>11        </td><td> 332871.08</td><td>667128.92 </td></tr>\n",
       "\t<tr><td>12        </td><td> 301194.21</td><td>698805.79 </td></tr>\n",
       "\t<tr><td>13        </td><td> 272531.79</td><td>727468.21 </td></tr>\n",
       "\t<tr><td>14        </td><td> 246596.96</td><td>753403.04 </td></tr>\n",
       "\t<tr><td>15        </td><td> 223130.16</td><td>776869.84 </td></tr>\n",
       "\t<tr><td>16        </td><td> 201896.51</td><td>798103.49 </td></tr>\n",
       "\t<tr><td>17        </td><td> 182683.52</td><td>817316.48 </td></tr>\n",
       "\t<tr><td>18        </td><td> 165298.88</td><td>834701.12 </td></tr>\n",
       "\t<tr><td>19        </td><td> 149568.62</td><td>850431.38 </td></tr>\n",
       "\t<tr><td>20        </td><td> 135335.28</td><td>864664.72 </td></tr>\n",
       "\t<tr><td>21        </td><td> 122456.42</td><td>877543.58 </td></tr>\n",
       "\t<tr><td>22        </td><td> 110803.15</td><td>889196.85 </td></tr>\n",
       "\t<tr><td>23        </td><td> 100258.84</td><td>899741.16 </td></tr>\n",
       "\t<tr><td>24        </td><td>  90717.95</td><td>909282.05 </td></tr>\n",
       "\t<tr><td>25        </td><td>  82085.00</td><td>917915.00 </td></tr>\n",
       "\t<tr><td>26        </td><td>  74273.58</td><td>925726.42 </td></tr>\n",
       "\t<tr><td>27        </td><td>  67205.51</td><td>932794.49 </td></tr>\n",
       "\t<tr><td>28        </td><td>  60810.06</td><td>939189.94 </td></tr>\n",
       "</tbody>\n",
       "</table>\n"
      ],
      "text/latex": [
       "\\begin{tabular}{r|lll}\n",
       " time & I & R\\\\\n",
       "\\hline\n",
       "\t  0         & 1000000.00 &      0.00 \\\\\n",
       "\t  1         &  904837.42 &  95162.58 \\\\\n",
       "\t  2         &  818730.75 & 181269.25 \\\\\n",
       "\t  3         &  740818.22 & 259181.78 \\\\\n",
       "\t  4         &  670320.04 & 329679.96 \\\\\n",
       "\t  5         &  606530.66 & 393469.34 \\\\\n",
       "\t  6         &  548811.63 & 451188.37 \\\\\n",
       "\t  7         &  496585.30 & 503414.70 \\\\\n",
       "\t  8         &  449328.96 & 550671.04 \\\\\n",
       "\t  9         &  406569.66 & 593430.34 \\\\\n",
       "\t 10         &  367879.44 & 632120.56 \\\\\n",
       "\t 11         &  332871.08 & 667128.92 \\\\\n",
       "\t 12         &  301194.21 & 698805.79 \\\\\n",
       "\t 13         &  272531.79 & 727468.21 \\\\\n",
       "\t 14         &  246596.96 & 753403.04 \\\\\n",
       "\t 15         &  223130.16 & 776869.84 \\\\\n",
       "\t 16         &  201896.51 & 798103.49 \\\\\n",
       "\t 17         &  182683.52 & 817316.48 \\\\\n",
       "\t 18         &  165298.88 & 834701.12 \\\\\n",
       "\t 19         &  149568.62 & 850431.38 \\\\\n",
       "\t 20         &  135335.28 & 864664.72 \\\\\n",
       "\t 21         &  122456.42 & 877543.58 \\\\\n",
       "\t 22         &  110803.15 & 889196.85 \\\\\n",
       "\t 23         &  100258.84 & 899741.16 \\\\\n",
       "\t 24         &   90717.95 & 909282.05 \\\\\n",
       "\t 25         &   82085.00 & 917915.00 \\\\\n",
       "\t 26         &   74273.58 & 925726.42 \\\\\n",
       "\t 27         &   67205.51 & 932794.49 \\\\\n",
       "\t 28         &   60810.06 & 939189.94 \\\\\n",
       "\\end{tabular}\n"
      ],
      "text/markdown": [
       "\n",
       "| time | I | R |\n",
       "|---|---|---|\n",
       "|  0         | 1000000.00 |      0.00  |\n",
       "|  1         |  904837.42 |  95162.58  |\n",
       "|  2         |  818730.75 | 181269.25  |\n",
       "|  3         |  740818.22 | 259181.78  |\n",
       "|  4         |  670320.04 | 329679.96  |\n",
       "|  5         |  606530.66 | 393469.34  |\n",
       "|  6         |  548811.63 | 451188.37  |\n",
       "|  7         |  496585.30 | 503414.70  |\n",
       "|  8         |  449328.96 | 550671.04  |\n",
       "|  9         |  406569.66 | 593430.34  |\n",
       "| 10         |  367879.44 | 632120.56  |\n",
       "| 11         |  332871.08 | 667128.92  |\n",
       "| 12         |  301194.21 | 698805.79  |\n",
       "| 13         |  272531.79 | 727468.21  |\n",
       "| 14         |  246596.96 | 753403.04  |\n",
       "| 15         |  223130.16 | 776869.84  |\n",
       "| 16         |  201896.51 | 798103.49  |\n",
       "| 17         |  182683.52 | 817316.48  |\n",
       "| 18         |  165298.88 | 834701.12  |\n",
       "| 19         |  149568.62 | 850431.38  |\n",
       "| 20         |  135335.28 | 864664.72  |\n",
       "| 21         |  122456.42 | 877543.58  |\n",
       "| 22         |  110803.15 | 889196.85  |\n",
       "| 23         |  100258.84 | 899741.16  |\n",
       "| 24         |   90717.95 | 909282.05  |\n",
       "| 25         |   82085.00 | 917915.00  |\n",
       "| 26         |   74273.58 | 925726.42  |\n",
       "| 27         |   67205.51 | 932794.49  |\n",
       "| 28         |   60810.06 | 939189.94  |\n",
       "\n"
      ],
      "text/plain": [
       "   time I          R        \n",
       "1   0   1000000.00      0.00\n",
       "2   1    904837.42  95162.58\n",
       "3   2    818730.75 181269.25\n",
       "4   3    740818.22 259181.78\n",
       "5   4    670320.04 329679.96\n",
       "6   5    606530.66 393469.34\n",
       "7   6    548811.63 451188.37\n",
       "8   7    496585.30 503414.70\n",
       "9   8    449328.96 550671.04\n",
       "10  9    406569.66 593430.34\n",
       "11 10    367879.44 632120.56\n",
       "12 11    332871.08 667128.92\n",
       "13 12    301194.21 698805.79\n",
       "14 13    272531.79 727468.21\n",
       "15 14    246596.96 753403.04\n",
       "16 15    223130.16 776869.84\n",
       "17 16    201896.51 798103.49\n",
       "18 17    182683.52 817316.48\n",
       "19 18    165298.88 834701.12\n",
       "20 19    149568.62 850431.38\n",
       "21 20    135335.28 864664.72\n",
       "22 21    122456.42 877543.58\n",
       "23 22    110803.15 889196.85\n",
       "24 23    100258.84 899741.16\n",
       "25 24     90717.95 909282.05\n",
       "26 25     82085.00 917915.00\n",
       "27 26     74273.58 925726.42\n",
       "28 27     67205.51 932794.49\n",
       "29 28     60810.06 939189.94"
      ]
     },
     "metadata": {},
     "output_type": "display_data"
    }
   ],
   "source": [
    "output <- as.data.frame(ode(y = initial_state_values, \n",
    "                            times = times, \n",
    "                            func = cohort_model,\n",
    "                            parms = parameters))\n",
    "\n",
    "# We are using the default integration function of the deSolve package,\n",
    "# ode (which stands for ordinary differential equations)\n",
    "# While the package contains other methods to do the integration,\n",
    "# you don't have to worry about that in this course.\n",
    "\n",
    "# Printing the model output\n",
    "output\n",
    "\n",
    "# This returns a dataframe with columns:\n",
    "# \"time\" (containing our times vector), \n",
    "# \"I\" (containing the number of infected people at each timestep) and \n",
    "# \"R\" (containing the number of recovered people at each timestep)."
   ]
  },
  {
   "cell_type": "code",
   "execution_count": 17,
   "metadata": {},
   "outputs": [
    {
     "data": {
      "text/html": [
       "<table>\n",
       "<thead><tr><th></th><th scope=col>time</th><th scope=col>R</th></tr></thead>\n",
       "<tbody>\n",
       "\t<tr><th scope=row>29</th><td>28      </td><td>939189.9</td></tr>\n",
       "</tbody>\n",
       "</table>\n"
      ],
      "text/latex": [
       "\\begin{tabular}{r|ll}\n",
       "  & time & R\\\\\n",
       "\\hline\n",
       "\t29 & 28       & 939189.9\\\\\n",
       "\\end{tabular}\n"
      ],
      "text/markdown": [
       "\n",
       "| <!--/--> | time | R |\n",
       "|---|---|---|\n",
       "| 29 | 28       | 939189.9 |\n",
       "\n"
      ],
      "text/plain": [
       "   time R       \n",
       "29 28   939189.9"
      ]
     },
     "metadata": {},
     "output_type": "display_data"
    }
   ],
   "source": [
    "output[output$time == 28, c(\"time\",\"R\")]   \n",
    "# printing the \"time\" and \"R\" output columns when the timestep equals 28\n",
    "# Answer: 939189.9 people are in the recovered compartment at timestep 28"
   ]
  },
  {
   "cell_type": "code",
   "execution_count": 18,
   "metadata": {},
   "outputs": [
    {
     "data": {
      "text/html": [
       "0.939189939812468"
      ],
      "text/latex": [
       "0.939189939812468"
      ],
      "text/markdown": [
       "0.939189939812468"
      ],
      "text/plain": [
       "[1] 0.9391899"
      ]
     },
     "metadata": {},
     "output_type": "display_data"
    }
   ],
   "source": [
    "output[output$time == 28,\"R\"]/(output[output$time == 28,\"I\"]+\n",
    " output[output$time == 28,\"R\"]) # note this is only on a separate line \n",
    "                                # for formatting reasons!\n",
    "\n",
    "# Answer: 93.9%\n",
    "\n",
    "# All we are doing here is dividing the number of recovered people at the\n",
    "# 4 week timestep by the total population size (I + R) at this timestep.\n",
    "# Note that since there are no births and deaths in our model, \n",
    "# the total population size is the same at each timestep, so we could \n",
    "# also calculate it by taking sum(initial_state_values)."
   ]
  },
  {
   "cell_type": "code",
   "execution_count": 19,
   "metadata": {},
   "outputs": [
    {
     "data": {
      "image/png": "[encoded data removed]",
      "text/plain": [
       "plot without title"
      ]
     },
     "metadata": {},
     "output_type": "display_data"
    }
   ],
   "source": [
    "# First turn the output dataset into a long format, so that the\n",
    "# number in each compartment at each timestep are all in the same column\n",
    "output_long <- melt(as.data.frame(output), id = \"time\")                  \n",
    "\n",
    "# Plot the number of people in each compartment over time\n",
    "ggplot(data = output_long,          # specify object containing data to plot\n",
    "       aes(x = time, y = value, colour = variable, group = variable)) +  \n",
    "       # in the long-format output dataset, the number in each compartment\n",
    "       # is in the \"value\" column and the compartment the number relates \n",
    "       # to is in the \"variable\" column. We are telling ggplot to assign a \n",
    "       # different colour to each compartment/group, which automatically \n",
    "       # generates a legend\n",
    "  geom_line() +                                                          \n",
    "       # we want to represent the data over time as lines. \n",
    "       # This command automatically looks to the specifications saved\n",
    "       # in the ggplot command above to know which data to plot\n",
    "  xlab(\"Time (days)\")+                          # add label for x axis\n",
    "  ylab(\"Number of people\") +                    # add label for y axis\n",
    "  labs(title = paste(\"Number infected and recovered over time when gamma =\",\n",
    "               parameters[\"gamma\"],\"days^-1\")) # add title\n",
    "# Using the paste() command, we can combine sentences with the \n",
    "# values stored in variables (here gamma)"
   ]
  },
  {
   "cell_type": "code",
   "execution_count": 20,
   "metadata": {},
   "outputs": [
    {
     "data": {
      "text/html": [
       "<table>\n",
       "<thead><tr><th></th><th scope=col>time</th><th scope=col>I</th><th scope=col>R</th></tr></thead>\n",
       "<tbody>\n",
       "\t<tr><th scope=row>8</th><td>7       </td><td>496585.3</td><td>503414.7</td></tr>\n",
       "</tbody>\n",
       "</table>\n"
      ],
      "text/latex": [
       "\\begin{tabular}{r|lll}\n",
       "  & time & I & R\\\\\n",
       "\\hline\n",
       "\t8 & 7        & 496585.3 & 503414.7\\\\\n",
       "\\end{tabular}\n"
      ],
      "text/markdown": [
       "\n",
       "| <!--/--> | time | I | R |\n",
       "|---|---|---|---|\n",
       "| 8 | 7        | 496585.3 | 503414.7 |\n",
       "\n"
      ],
      "text/plain": [
       "  time I        R       \n",
       "8 7    496585.3 503414.7"
      ]
     },
     "metadata": {},
     "output_type": "display_data"
    }
   ],
   "source": [
    "# Answer: around 7 days - this where the I and R lines intersect.\n",
    "# You can confirm that by looking at the output table:\n",
    "# the number in the I and R compartment are very similar at timestep 7.\n",
    "output[output$time == 7,]"
   ]
  },
  {
   "cell_type": "code",
   "execution_count": 21,
   "metadata": {},
   "outputs": [
    {
     "data": {
      "image/png": "[encoded data removed]",
      "text/plain": [
       "plot without title"
      ]
     },
     "metadata": {},
     "output_type": "display_data"
    }
   ],
   "source": [
    "parameters <- c(gamma = 0.5)\n",
    "\n",
    "# Solving the model\n",
    "output <- as.data.frame(ode(y = initial_state_values, \n",
    "                            times = times, \n",
    "                            func = cohort_model,\n",
    "                            parms = parameters))\n",
    "\n",
    "# Plotting the output\n",
    "output_long <- melt(as.data.frame(output), id = \"time\")   \n",
    "# turn output dataset into long format\n",
    "\n",
    "ggplot(data = output_long,       # specify object containing data to plot\n",
    "       aes(x = time, \n",
    "           y = value, \n",
    "           colour = variable, \n",
    "           group = variable)) +  # assign columns to axes and groups\n",
    "  geom_line() +                                 # represent data as lines\n",
    "  xlab(\"Time (days)\")+                          # add label for x axis\n",
    "  ylab(\"Number of people\") +                    # add label for y axis\n",
    "  labs(title = paste(\"Number infected and recovered over time when gamma =\",\n",
    "                      parameters[\"gamma\"],\"days^-1\")) + # add title\n",
    "  scale_color_brewer(palette = \"Set1\")\n",
    "\n"
   ]
  },
  {
   "cell_type": "code",
   "execution_count": 22,
   "metadata": {},
   "outputs": [
    {
     "data": {
      "image/png": "[encoded data removed]",
      "text/plain": [
       "plot without title"
      ]
     },
     "metadata": {},
     "output_type": "display_data"
    }
   ],
   "source": [
    "parameters <- c(gamma = 0.05)\n",
    "\n",
    "# Solving the model\n",
    "output <- as.data.frame(ode(y = initial_state_values, \n",
    "                            times = times, \n",
    "                            func = cohort_model,\n",
    "                            parms = parameters))\n",
    "\n",
    "# Plotting the output\n",
    "output_long <- melt(as.data.frame(output), id = \"time\") \n",
    "\n",
    "ggplot(data = output_long,                                 \n",
    "       aes(x = time, \n",
    "           y = value, \n",
    "           colour = variable, \n",
    "           group = variable)) +  # assign columns to axes and groups\n",
    "  geom_line() +                  # represent data as lines\n",
    "  xlab(\"Time (days)\")+           # add label for x axis\n",
    "  ylab(\"Number of people\") +     # add label for y axis\n",
    "  labs(title = paste(\"Number infected and recovered over time when gamma =\",\n",
    "                    parameters[\"gamma\"],\"days^-1\")) # add title"
   ]
  },
  {
   "cell_type": "code",
   "execution_count": null,
   "metadata": {},
   "outputs": [],
   "source": []
  }
 ],
 "metadata": {
  "kernelspec": {
   "display_name": "R",
   "language": "R",
   "name": "ir"
  },
  "language_info": {
   "codemirror_mode": "r",
   "file_extension": ".r",
   "mimetype": "text/x-r-source",
   "name": "R",
   "pygments_lexer": "r",
   "version": "3.6.1"
  }
 },
 "nbformat": 4,
 "nbformat_minor": 4
}
